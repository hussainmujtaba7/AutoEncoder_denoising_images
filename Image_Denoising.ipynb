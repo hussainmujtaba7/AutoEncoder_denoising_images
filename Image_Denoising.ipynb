{
  "nbformat": 4,
  "nbformat_minor": 0,
  "metadata": {
    "colab": {
      "name": " Image_Denoising.ipynb",
      "provenance": [],
      "collapsed_sections": []
    },
    "kernelspec": {
      "name": "python3",
      "display_name": "Python 3"
    },
    "accelerator": "GPU"
  },
  "cells": [
    {
      "cell_type": "markdown",
      "metadata": {
        "id": "kmqomuYVUNob",
        "colab_type": "text"
      },
      "source": [
        "## Importing fashion dataset"
      ]
    },
    {
      "cell_type": "code",
      "metadata": {
        "id": "1kyHTM8CzoOy",
        "colab_type": "code",
        "outputId": "5f920b58-4e00-4a95-857c-8b87f08f313a",
        "colab": {
          "base_uri": "https://localhost:8080/",
          "height": 34
        }
      },
      "source": [
        "from keras.datasets import mnist"
      ],
      "execution_count": 0,
      "outputs": [
        {
          "output_type": "stream",
          "text": [
            "Using TensorFlow backend.\n"
          ],
          "name": "stderr"
        }
      ]
    },
    {
      "cell_type": "markdown",
      "metadata": {
        "id": "YRalk-hQtFz0",
        "colab_type": "text"
      },
      "source": [
        "### Importing Libraries"
      ]
    },
    {
      "cell_type": "code",
      "metadata": {
        "id": "pdoaD5-Ec-GF",
        "colab_type": "code",
        "colab": {}
      },
      "source": [
        "import keras\n",
        "from keras import callbacks\n",
        "from keras.models import Model\n",
        "from keras.optimizers import Adadelta\n",
        "from keras.layers import Input, Conv2D, MaxPool2D, UpSampling2D"
      ],
      "execution_count": 0,
      "outputs": []
    },
    {
      "cell_type": "markdown",
      "metadata": {
        "id": "iv3VoeiJUh66",
        "colab_type": "text"
      },
      "source": [
        "### Downloading and Preprocessing of dataset and adding some noise to it."
      ]
    },
    {
      "cell_type": "code",
      "metadata": {
        "id": "NxjLdpOE0SAf",
        "colab_type": "code",
        "outputId": "8bf51dad-d3e2-4080-cd5c-106e4cbb5dd4",
        "colab": {
          "base_uri": "https://localhost:8080/",
          "height": 51
        }
      },
      "source": [
        "import numpy as np\n",
        "\n",
        "(trainX, trainy), (testX, testy) = mnist.load_data()\n",
        "\n",
        "# to convert values from 0 to 255 into range 0 to 1.\n",
        "trainX = np.expand_dims(trainX, axis=-1)\n",
        "testX = np.expand_dims(testX, axis=-1)\n",
        "trainX = trainX.astype(\"float32\") / 255.0\n",
        "testX = testX.astype(\"float32\") / 255.0\n",
        "#add noise to the images\n",
        "trainNoise = np.random.normal(loc=0.5, scale=0.5, size=trainX.shape)\n",
        "testNoise = np.random.normal(loc=0.5, scale=0.5, size=testX.shape)\n",
        "trainXNoisy = np.clip(trainX + trainNoise, 0, 1)\n",
        "testXNoisy = np.clip(testX + testNoise, 0, 1)"
      ],
      "execution_count": 0,
      "outputs": [
        {
          "output_type": "stream",
          "text": [
            "Downloading data from https://s3.amazonaws.com/img-datasets/mnist.npz\n",
            "11493376/11490434 [==============================] - 1s 0us/step\n"
          ],
          "name": "stdout"
        }
      ]
    },
    {
      "cell_type": "markdown",
      "metadata": {
        "id": "uLrS1l2wtMad",
        "colab_type": "text"
      },
      "source": [
        "## Let's visualize original and noisy images"
      ]
    },
    {
      "cell_type": "code",
      "metadata": {
        "id": "Kn4iIFcpWP83",
        "colab_type": "code",
        "outputId": "71a438a2-2ac0-4136-b5e7-c6e5d6556df2",
        "colab": {
          "base_uri": "https://localhost:8080/",
          "height": 307
        }
      },
      "source": [
        "import matplotlib.pyplot as plt\n",
        "plt.figure(figsize=(10, 10))\n",
        "for i in range(5):\n",
        "  plt.subplot(1, 5, i+1)\n",
        "  plt.xticks([])\n",
        "  plt.yticks([])\n",
        "  plt.grid(False)\n",
        "  plt.imshow(trainX[i].reshape(28, 28), cmap='gray')\n",
        "plt.tight_layout()\n",
        "plt.show()\n",
        "\n",
        "plt.figure(figsize=(10, 10))\n",
        "for i in range(5):\n",
        "  plt.subplot(1, 5, i+1)\n",
        "  plt.xticks([])\n",
        "  plt.yticks([])\n",
        "  plt.grid(False)\n",
        "  plt.imshow(trainXNoisy[i].reshape(28, 28), cmap='gray')\n",
        "plt.tight_layout()\n",
        "plt.show()\n"
      ],
      "execution_count": 0,
      "outputs": [
        {
          "output_type": "display_data",
          "data": {
            "image/png": "[encoded data removed]",
            "text/plain": [
              "<Figure size 720x720 with 5 Axes>"
            ]
          },
          "metadata": {
            "tags": []
          }
        },
        {
          "output_type": "display_data",
          "data": {
            "image/png": "[encoded data removed]",
            "text/plain": [
              "<Figure size 720x720 with 5 Axes>"
            ]
          },
          "metadata": {
            "tags": []
          }
        }
      ]
    },
    {
      "cell_type": "markdown",
      "metadata": {
        "id": "q7VSUaCjtUt9",
        "colab_type": "text"
      },
      "source": [
        "#Defining our Image denoising autoencoder"
      ]
    },
    {
      "cell_type": "code",
      "metadata": {
        "id": "WpzNXcuzbMvS",
        "colab_type": "code",
        "colab": {}
      },
      "source": [
        "# !pip install -q tensorflow==2.0.0-beta1\n",
        "input_img = Input(shape=(28, 28, 1))  # adapt this if using `channels_first` image data format\n",
        "\n",
        "x = Conv2D(32, (3, 3), activation='relu', padding='same')(input_img)\n",
        "x = MaxPool2D((2, 2), padding='same')(x)\n",
        "x = Conv2D(32, (3, 3), activation='relu', padding='same')(x)\n",
        "encoded = MaxPool2D((2, 2), padding='same')(x)\n",
        "\n",
        "# at this point the representation is (7, 7, 32)\n",
        "\n",
        "x = Conv2D(32, (3, 3), activation='relu', padding='same')(encoded)\n",
        "x = UpSampling2D((2, 2))(x)\n",
        "x = Conv2D(32, (3, 3), activation='relu', padding='same')(x)\n",
        "x = UpSampling2D((2, 2))(x)\n",
        "decoded = Conv2D(1, (3, 3), activation='sigmoid', padding='same')(x)\n",
        "\n",
        "autoencoder = Model(input_img, decoded)\n",
        "\n",
        "\n",
        "autoencoder.compile(optimizer='adadelta', loss='binary_crossentropy')"
      ],
      "execution_count": 0,
      "outputs": []
    },
    {
      "cell_type": "markdown",
      "metadata": {
        "id": "x_sJEMaXtbWS",
        "colab_type": "text"
      },
      "source": [
        "## Structure of our autoencoder"
      ]
    },
    {
      "cell_type": "code",
      "metadata": {
        "id": "RPXfbadGhQTn",
        "colab_type": "code",
        "outputId": "d5608ff4-a0db-4390-ecf8-28eac8770a77",
        "colab": {
          "base_uri": "https://localhost:8080/",
          "height": 638
        }
      },
      "source": [
        "autoencoder.summary()"
      ],
      "execution_count": 0,
      "outputs": [
        {
          "output_type": "stream",
          "text": [
            "_________________________________________________________________\n",
            "Layer (type)                 Output Shape              Param #   \n",
            "=================================================================\n",
            "input_1 (InputLayer)         (None, 28, 28, 1)         0         \n",
            "_________________________________________________________________\n",
            "conv2d_1 (Conv2D)            (None, 28, 28, 64)        640       \n",
            "_________________________________________________________________\n",
            "max_pooling2d_1 (MaxPooling2 (None, 14, 14, 64)        0         \n",
            "_________________________________________________________________\n",
            "conv2d_2 (Conv2D)            (None, 14, 14, 32)        18464     \n",
            "_________________________________________________________________\n",
            "max_pooling2d_2 (MaxPooling2 (None, 7, 7, 32)          0         \n",
            "_________________________________________________________________\n",
            "conv2d_3 (Conv2D)            (None, 7, 7, 16)          4624      \n",
            "_________________________________________________________________\n",
            "max_pooling2d_3 (MaxPooling2 (None, 4, 4, 16)          0         \n",
            "_________________________________________________________________\n",
            "conv2d_4 (Conv2D)            (None, 4, 4, 16)          2320      \n",
            "_________________________________________________________________\n",
            "up_sampling2d_1 (UpSampling2 (None, 8, 8, 16)          0         \n",
            "_________________________________________________________________\n",
            "conv2d_5 (Conv2D)            (None, 8, 8, 32)          4640      \n",
            "_________________________________________________________________\n",
            "up_sampling2d_2 (UpSampling2 (None, 16, 16, 32)        0         \n",
            "_________________________________________________________________\n",
            "conv2d_6 (Conv2D)            (None, 14, 14, 64)        18496     \n",
            "_________________________________________________________________\n",
            "up_sampling2d_3 (UpSampling2 (None, 28, 28, 64)        0         \n",
            "_________________________________________________________________\n",
            "conv2d_7 (Conv2D)            (None, 28, 28, 1)         577       \n",
            "=================================================================\n",
            "Total params: 49,761\n",
            "Trainable params: 49,761\n",
            "Non-trainable params: 0\n",
            "_________________________________________________________________\n"
          ],
          "name": "stdout"
        }
      ]
    },
    {
      "cell_type": "code",
      "metadata": {
        "id": "OMMLq3fcXDlt",
        "colab_type": "code",
        "colab": {}
      },
      "source": [
        "# train the convolutional autoencoder\n",
        "H = autoencoder.fit(\n",
        "\ttrainXNoisy, trainX,\n",
        "\tvalidation_data=(testXNoisy, testX),\n",
        "\tepochs=20,\n",
        "\tbatch_size=32)\n"
      ],
      "execution_count": 0,
      "outputs": []
    },
    {
      "cell_type": "code",
      "metadata": {
        "id": "eG6BRJWaYMqP",
        "colab_type": "code",
        "outputId": "7af3388a-790a-426b-9da4-d0aacfec52ad",
        "colab": {
          "base_uri": "https://localhost:8080/",
          "height": 299
        }
      },
      "source": [
        "# construct a plot that plots and saves the training history\n",
        "N = np.arange(0, 20)\n",
        "plt.style.use(\"ggplot\")\n",
        "plt.figure()\n",
        "plt.plot(N, H.history[\"loss\"], label=\"train_loss\")\n",
        "plt.plot(N, H.history[\"val_loss\"], label=\"val_loss\")\n",
        "plt.title(\"Training Loss and Accuracy\")\n",
        "plt.xlabel(\"Epoch #\")\n",
        "plt.ylabel(\"Loss/Accuracy\")\n",
        "plt.legend(loc=\"lower left\")\n",
        "plt.show()"
      ],
      "execution_count": 0,
      "outputs": [
        {
          "output_type": "display_data",
          "data": {
            "image/png": "[encoded data removed]",
            "text/plain": [
              "<Figure size 432x288 with 1 Axes>"
            ]
          },
          "metadata": {
            "tags": []
          }
        }
      ]
    },
    {
      "cell_type": "markdown",
      "metadata": {
        "id": "8v7WiJW6tgra",
        "colab_type": "text"
      },
      "source": [
        "### Enabling Early Stopping"
      ]
    },
    {
      "cell_type": "markdown",
      "metadata": {
        "id": "b4J3pSmItmCj",
        "colab_type": "text"
      },
      "source": [
        "## Training our autoencoder and validating it on validation data"
      ]
    },
    {
      "cell_type": "markdown",
      "metadata": {
        "id": "RCNPyGLMttG7",
        "colab_type": "text"
      },
      "source": [
        "## Making Predictions"
      ]
    },
    {
      "cell_type": "code",
      "metadata": {
        "id": "5X6A-3zfhtCk",
        "colab_type": "code",
        "colab": {}
      },
      "source": [
        "# to predict the reconstructed images for the original images...\n",
        "pred = autoencoder.predict(testXNoisy)"
      ],
      "execution_count": 0,
      "outputs": []
    },
    {
      "cell_type": "markdown",
      "metadata": {
        "id": "D6C8plYVtxKe",
        "colab_type": "text"
      },
      "source": [
        "## Visualizing our results"
      ]
    },
    {
      "cell_type": "code",
      "metadata": {
        "id": "Ha6L6kMHsEty",
        "colab_type": "code",
        "outputId": "6e18e1ba-5907-4949-df57-b2925241628d",
        "colab": {
          "base_uri": "https://localhost:8080/",
          "height": 452
        }
      },
      "source": [
        "plt.figure(figsize=(10,10))\n",
        "for i in range(5):\n",
        "    plt.subplot(1, 5, i+1)\n",
        "    plt.xticks([]) # to remove x-axis  the [] empty list indicates this\n",
        "    plt.yticks([]) # to remove y-axis\n",
        "    plt.grid(False) # to remove grid\n",
        "    plt.imshow(testX[i].reshape(28, 28), cmap='gray') #display the image \n",
        "plt.tight_layout() # to have a proper space in the subplots\n",
        "plt.show()\n",
        "\n",
        "plt.figure(figsize=(10,10))\n",
        "for i in range(5):\n",
        "    plt.subplot(1, 5, i+1)\n",
        "    plt.xticks([]) # to remove x-axis  the [] empty list indicates this\n",
        "    plt.yticks([]) # to remove y-axis\n",
        "    plt.grid(False) # to remove grid\n",
        "    plt.imshow(testXNoisy[i].reshape(28, 28), cmap='gray') #display the image \n",
        "plt.tight_layout() # to have a proper space in the subplots\n",
        "plt.show()\n",
        "\n",
        "# to visualize reconstructed images(output of autoencoder)\n",
        "plt.figure(figsize=(10,10))\n",
        "for i in range(5):\n",
        "    plt.subplot(1, 5, i+1)\n",
        "    plt.xticks([]) # to remove x-axis  the [] empty list indicates this\n",
        "    plt.yticks([]) # to remove y-axis\n",
        "    plt.grid(False) # to remove grid\n",
        "    plt.imshow(pred[i].reshape(28, 28), cmap='gray') #display the image \n",
        "plt.tight_layout() # to have a proper space in the subplots\n",
        "plt.show()"
      ],
      "execution_count": 0,
      "outputs": [
        {
          "output_type": "display_data",
          "data": {
            "image/png": "[encoded data removed]",
            "text/plain": [
              "<Figure size 720x720 with 5 Axes>"
            ]
          },
          "metadata": {
            "tags": []
          }
        },
        {
          "output_type": "display_data",
          "data": {
            "image/png": "[encoded data removed]",
            "text/plain": [
              "<Figure size 720x720 with 5 Axes>"
            ]
          },
          "metadata": {
            "tags": []
          }
        },
        {
          "output_type": "display_data",
          "data": {
            "image/png": "[encoded data removed]",
            "text/plain": [
              "<Figure size 720x720 with 5 Axes>"
            ]
          },
          "metadata": {
            "tags": []
          }
        }
      ]
    },
    {
      "cell_type": "code",
      "metadata": {
        "id": "nFcCWs7RsKe2",
        "colab_type": "code",
        "colab": {}
      },
      "source": [
        ""
      ],
      "execution_count": 0,
      "outputs": []
    }
  ]
}